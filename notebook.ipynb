{
 "cells": [
  {
   "cell_type": "markdown",
   "metadata": {
    "pycharm": {
     "name": "#%% md\n"
    }
   },
   "source": [
    "# Определение стоимости автомобилей"
   ]
  },
  {
   "cell_type": "markdown",
   "metadata": {
    "pycharm": {
     "name": "#%% md\n"
    }
   },
   "source": [
    "Сервис по продаже автомобилей с пробегом «Не бит, не крашен» разрабатывает приложение для привлечения новых клиентов. В нём можно быстро узнать рыночную стоимость своего автомобиля. В вашем распоряжении исторические данные: технические характеристики, комплектации и цены автомобилей. Вам нужно построить модель для определения стоимости. \n",
    "\n",
    "Заказчику важны:\n",
    "\n",
    "- качество предсказания (значение метрики RMSE должно быть меньше 2500);\n",
    "- скорость предсказания;\n",
    "- время обучения.\n",
    "\n",
    "Чтобы усилить исследование, не ограничивайтесь градиентным бустингом. Попробуйте более простые модели — иногда они работают лучше. Эти редкие случаи легко пропустить, если всегда применять только бустинг. Поэкспериментируйте и сравните характеристики моделей: время обучения, время предсказания, точность результата."
   ]
  },
  {
   "cell_type": "markdown",
   "source": [
    "## Описание данных"
   ],
   "metadata": {
    "collapsed": false,
    "pycharm": {
     "name": "#%% md\n"
    }
   }
  },
  {
   "cell_type": "markdown",
   "source": [
    "- Признаки\n",
    "    - DateCrawled — дата скачивания анкеты из базы\n",
    "    - VehicleType — тип автомобильного кузова\n",
    "    - RegistrationYear — год регистрации автомобиля\n",
    "    - Gearbox — тип коробки передач\n",
    "    - Power — мощность (л. с.)\n",
    "    - Model — модель автомобиля\n",
    "    - Kilometer — пробег (км)\n",
    "    - RegistrationMonth — месяц регистрации автомобиля\n",
    "    - FuelType — тип топлива\n",
    "    - Brand — марка автомобиля\n",
    "    - NotRepaired — была машина в ремонте или нет\n",
    "    - DateCreated — дата создания анкеты\n",
    "    - NumberOfPictures — количество фотографий автомобиля\n",
    "    - PostalCode — почтовый индекс владельца анкеты (пользователя)\n",
    "    - LastSeen — дата последней активности пользователя\n",
    "- Целевой признак\n",
    "    - Price — цена (евро)"
   ],
   "metadata": {
    "collapsed": false,
    "pycharm": {
     "name": "#%% md\n"
    }
   }
  },
  {
   "cell_type": "markdown",
   "source": [
    "Импортируем необходимые модули."
   ],
   "metadata": {
    "collapsed": false,
    "pycharm": {
     "name": "#%% md\n"
    }
   }
  },
  {
   "cell_type": "code",
   "execution_count": 1,
   "outputs": [
    {
     "name": "stderr",
     "output_type": "stream",
     "text": [
      "C:\\Anaconda\\lib\\site-packages\\tqdm\\auto.py:22: TqdmWarning: IProgress not found. Please update jupyter and ipywidgets. See https://ipywidgets.readthedocs.io/en/stable/user_install.html\n",
      "  from .autonotebook import tqdm as notebook_tqdm\n"
     ]
    }
   ],
   "source": [
    "import pandas as pd\n",
    "import sweetviz as sv\n",
    "\n",
    "from sklearn.model_selection import train_test_split, GridSearchCV\n",
    "from sklearn.preprocessing import StandardScaler, LabelEncoder\n",
    "from sklearn.pipeline import Pipeline\n",
    "from sklearn.metrics import mean_squared_error\n",
    "\n",
    "from sklearn.linear_model import ElasticNet\n",
    "from sklearn.ensemble import RandomForestRegressor"
   ],
   "metadata": {
    "collapsed": false,
    "pycharm": {
     "name": "#%%\n"
    }
   }
  },
  {
   "cell_type": "markdown",
   "source": [
    "Введем константы."
   ],
   "metadata": {
    "collapsed": false,
    "pycharm": {
     "name": "#%% md\n"
    }
   }
  },
  {
   "cell_type": "code",
   "execution_count": 2,
   "outputs": [],
   "source": [
    "SEED = 515"
   ],
   "metadata": {
    "collapsed": false,
    "pycharm": {
     "name": "#%%\n"
    }
   }
  },
  {
   "cell_type": "markdown",
   "metadata": {
    "pycharm": {
     "name": "#%% md\n"
    }
   },
   "source": [
    "## Подготовка данных"
   ]
  },
  {
   "cell_type": "code",
   "execution_count": 3,
   "metadata": {
    "pycharm": {
     "name": "#%%\n"
    }
   },
   "outputs": [
    {
     "data": {
      "text/plain": "           DateCrawled  Price VehicleType  RegistrationYear Gearbox  Power  \\\n0  2016-03-24 11:52:17    480         NaN              1993  manual      0   \n1  2016-03-24 10:58:45  18300       coupe              2011  manual    190   \n2  2016-03-14 12:52:21   9800         suv              2004    auto    163   \n3  2016-03-17 16:54:04   1500       small              2001  manual     75   \n4  2016-03-31 17:25:20   3600       small              2008  manual     69   \n\n   Model  Kilometer  RegistrationMonth  FuelType       Brand NotRepaired  \\\n0   golf     150000                  0    petrol  volkswagen         NaN   \n1    NaN     125000                  5  gasoline        audi         yes   \n2  grand     125000                  8  gasoline        jeep         NaN   \n3   golf     150000                  6    petrol  volkswagen          no   \n4  fabia      90000                  7  gasoline       skoda          no   \n\n           DateCreated  NumberOfPictures  PostalCode             LastSeen  \n0  2016-03-24 00:00:00                 0       70435  2016-04-07 03:16:57  \n1  2016-03-24 00:00:00                 0       66954  2016-04-07 01:46:50  \n2  2016-03-14 00:00:00                 0       90480  2016-04-05 12:47:46  \n3  2016-03-17 00:00:00                 0       91074  2016-03-17 17:40:17  \n4  2016-03-31 00:00:00                 0       60437  2016-04-06 10:17:21  ",
      "text/html": "<div>\n<style scoped>\n    .dataframe tbody tr th:only-of-type {\n        vertical-align: middle;\n    }\n\n    .dataframe tbody tr th {\n        vertical-align: top;\n    }\n\n    .dataframe thead th {\n        text-align: right;\n    }\n</style>\n<table border=\"1\" class=\"dataframe\">\n  <thead>\n    <tr style=\"text-align: right;\">\n      <th></th>\n      <th>DateCrawled</th>\n      <th>Price</th>\n      <th>VehicleType</th>\n      <th>RegistrationYear</th>\n      <th>Gearbox</th>\n      <th>Power</th>\n      <th>Model</th>\n      <th>Kilometer</th>\n      <th>RegistrationMonth</th>\n      <th>FuelType</th>\n      <th>Brand</th>\n      <th>NotRepaired</th>\n      <th>DateCreated</th>\n      <th>NumberOfPictures</th>\n      <th>PostalCode</th>\n      <th>LastSeen</th>\n    </tr>\n  </thead>\n  <tbody>\n    <tr>\n      <th>0</th>\n      <td>2016-03-24 11:52:17</td>\n      <td>480</td>\n      <td>NaN</td>\n      <td>1993</td>\n      <td>manual</td>\n      <td>0</td>\n      <td>golf</td>\n      <td>150000</td>\n      <td>0</td>\n      <td>petrol</td>\n      <td>volkswagen</td>\n      <td>NaN</td>\n      <td>2016-03-24 00:00:00</td>\n      <td>0</td>\n      <td>70435</td>\n      <td>2016-04-07 03:16:57</td>\n    </tr>\n    <tr>\n      <th>1</th>\n      <td>2016-03-24 10:58:45</td>\n      <td>18300</td>\n      <td>coupe</td>\n      <td>2011</td>\n      <td>manual</td>\n      <td>190</td>\n      <td>NaN</td>\n      <td>125000</td>\n      <td>5</td>\n      <td>gasoline</td>\n      <td>audi</td>\n      <td>yes</td>\n      <td>2016-03-24 00:00:00</td>\n      <td>0</td>\n      <td>66954</td>\n      <td>2016-04-07 01:46:50</td>\n    </tr>\n    <tr>\n      <th>2</th>\n      <td>2016-03-14 12:52:21</td>\n      <td>9800</td>\n      <td>suv</td>\n      <td>2004</td>\n      <td>auto</td>\n      <td>163</td>\n      <td>grand</td>\n      <td>125000</td>\n      <td>8</td>\n      <td>gasoline</td>\n      <td>jeep</td>\n      <td>NaN</td>\n      <td>2016-03-14 00:00:00</td>\n      <td>0</td>\n      <td>90480</td>\n      <td>2016-04-05 12:47:46</td>\n    </tr>\n    <tr>\n      <th>3</th>\n      <td>2016-03-17 16:54:04</td>\n      <td>1500</td>\n      <td>small</td>\n      <td>2001</td>\n      <td>manual</td>\n      <td>75</td>\n      <td>golf</td>\n      <td>150000</td>\n      <td>6</td>\n      <td>petrol</td>\n      <td>volkswagen</td>\n      <td>no</td>\n      <td>2016-03-17 00:00:00</td>\n      <td>0</td>\n      <td>91074</td>\n      <td>2016-03-17 17:40:17</td>\n    </tr>\n    <tr>\n      <th>4</th>\n      <td>2016-03-31 17:25:20</td>\n      <td>3600</td>\n      <td>small</td>\n      <td>2008</td>\n      <td>manual</td>\n      <td>69</td>\n      <td>fabia</td>\n      <td>90000</td>\n      <td>7</td>\n      <td>gasoline</td>\n      <td>skoda</td>\n      <td>no</td>\n      <td>2016-03-31 00:00:00</td>\n      <td>0</td>\n      <td>60437</td>\n      <td>2016-04-06 10:17:21</td>\n    </tr>\n  </tbody>\n</table>\n</div>"
     },
     "metadata": {},
     "output_type": "display_data"
    },
    {
     "name": "stdout",
     "output_type": "stream",
     "text": [
      "<class 'pandas.core.frame.DataFrame'>\n",
      "RangeIndex: 354369 entries, 0 to 354368\n",
      "Data columns (total 16 columns):\n",
      " #   Column             Non-Null Count   Dtype \n",
      "---  ------             --------------   ----- \n",
      " 0   DateCrawled        354369 non-null  object\n",
      " 1   Price              354369 non-null  int64 \n",
      " 2   VehicleType        316879 non-null  object\n",
      " 3   RegistrationYear   354369 non-null  int64 \n",
      " 4   Gearbox            334536 non-null  object\n",
      " 5   Power              354369 non-null  int64 \n",
      " 6   Model              334664 non-null  object\n",
      " 7   Kilometer          354369 non-null  int64 \n",
      " 8   RegistrationMonth  354369 non-null  int64 \n",
      " 9   FuelType           321474 non-null  object\n",
      " 10  Brand              354369 non-null  object\n",
      " 11  NotRepaired        283215 non-null  object\n",
      " 12  DateCreated        354369 non-null  object\n",
      " 13  NumberOfPictures   354369 non-null  int64 \n",
      " 14  PostalCode         354369 non-null  int64 \n",
      " 15  LastSeen           354369 non-null  object\n",
      "dtypes: int64(7), object(9)\n",
      "memory usage: 43.3+ MB\n"
     ]
    },
    {
     "data": {
      "text/plain": "DateCrawled              0\nPrice                    0\nVehicleType          37490\nRegistrationYear         0\nGearbox              19833\nPower                    0\nModel                19705\nKilometer                0\nRegistrationMonth        0\nFuelType             32895\nBrand                    0\nNotRepaired          71154\nDateCreated              0\nNumberOfPictures         0\nPostalCode               0\nLastSeen                 0\ndtype: int64"
     },
     "execution_count": 3,
     "metadata": {},
     "output_type": "execute_result"
    }
   ],
   "source": [
    "df_dir = \"./datasets/\"\n",
    "df_name = \"autos.csv\"\n",
    "df_path = ''.join([df_dir, df_name])\n",
    "\n",
    "df = pd.read_csv(df_path)\n",
    "display(df.head())\n",
    "df.info()\n",
    "df.isna().sum()"
   ]
  },
  {
   "cell_type": "markdown",
   "source": [
    "Можно видеть, что в категориальных данных содержится значительное количество пропусков."
   ],
   "metadata": {
    "collapsed": false,
    "pycharm": {
     "name": "#%% md\n"
    }
   }
  },
  {
   "cell_type": "markdown",
   "metadata": {
    "pycharm": {
     "name": "#%% md\n"
    }
   },
   "source": [
    "Вначале, удалим малоинформативные колонки."
   ]
  },
  {
   "cell_type": "code",
   "execution_count": 4,
   "metadata": {
    "pycharm": {
     "name": "#%%\n"
    }
   },
   "outputs": [],
   "source": [
    "cols_to_drop = ['DateCrawled', 'DateCreated', 'RegistrationMonth', 'PostalCode', 'LastSeen']\n",
    "df = df.drop(columns=cols_to_drop)"
   ]
  },
  {
   "cell_type": "markdown",
   "source": [
    "Проверим количество уникальных значений в колонке с количеством фотографий."
   ],
   "metadata": {
    "collapsed": false,
    "pycharm": {
     "name": "#%% md\n"
    }
   }
  },
  {
   "cell_type": "code",
   "execution_count": 5,
   "outputs": [
    {
     "name": "stdout",
     "output_type": "stream",
     "text": [
      "[0]\n"
     ]
    }
   ],
   "source": [
    "print(df['NumberOfPictures'].unique())"
   ],
   "metadata": {
    "collapsed": false,
    "pycharm": {
     "name": "#%%\n"
    }
   }
  },
  {
   "cell_type": "markdown",
   "source": [
    "Удалим ее как малоинформативную."
   ],
   "metadata": {
    "collapsed": false,
    "pycharm": {
     "name": "#%% md\n"
    }
   }
  },
  {
   "cell_type": "code",
   "execution_count": 6,
   "outputs": [],
   "source": [
    "df = df.drop('NumberOfPictures', axis=1)"
   ],
   "metadata": {
    "collapsed": false,
    "pycharm": {
     "name": "#%%\n"
    }
   }
  },
  {
   "cell_type": "markdown",
   "source": [
    "Проверим уникальные значения в категориальных колонках на наличие опечаток."
   ],
   "metadata": {
    "collapsed": false,
    "pycharm": {
     "name": "#%% md\n"
    }
   }
  },
  {
   "cell_type": "code",
   "execution_count": 7,
   "outputs": [
    {
     "name": "stdout",
     "output_type": "stream",
     "text": [
      "VehicleType\n",
      "[nan 'coupe' 'suv' 'small' 'sedan' 'convertible' 'bus' 'wagon' 'other']\n",
      "Gearbox\n",
      "['manual' 'auto' nan]\n",
      "Model\n",
      "['golf' nan 'grand' 'fabia' '3er' '2_reihe' 'other' 'c_max' '3_reihe'\n",
      " 'passat' 'navara' 'ka' 'polo' 'twingo' 'a_klasse' 'scirocco' '5er'\n",
      " 'meriva' 'arosa' 'c4' 'civic' 'transporter' 'punto' 'e_klasse' 'clio'\n",
      " 'kadett' 'kangoo' 'corsa' 'one' 'fortwo' '1er' 'b_klasse' 'signum'\n",
      " 'astra' 'a8' 'jetta' 'fiesta' 'c_klasse' 'micra' 'vito' 'sprinter' '156'\n",
      " 'escort' 'forester' 'xc_reihe' 'scenic' 'a4' 'a1' 'insignia' 'combo'\n",
      " 'focus' 'tt' 'a6' 'jazz' 'omega' 'slk' '7er' '80' '147' '100' 'z_reihe'\n",
      " 'sportage' 'sorento' 'v40' 'ibiza' 'mustang' 'eos' 'touran' 'getz' 'a3'\n",
      " 'almera' 'megane' 'lupo' 'r19' 'zafira' 'caddy' 'mondeo' 'cordoba' 'colt'\n",
      " 'impreza' 'vectra' 'berlingo' 'tiguan' 'i_reihe' 'espace' 'sharan'\n",
      " '6_reihe' 'panda' 'up' 'seicento' 'ceed' '5_reihe' 'yeti' 'octavia' 'mii'\n",
      " 'rx_reihe' '6er' 'modus' 'fox' 'matiz' 'beetle' 'c1' 'rio' 'touareg'\n",
      " 'logan' 'spider' 'cuore' 's_max' 'a2' 'galaxy' 'c3' 'viano' 's_klasse'\n",
      " '1_reihe' 'avensis' 'roomster' 'sl' 'kaefer' 'santa' 'cooper' 'leon'\n",
      " '4_reihe' 'a5' '500' 'laguna' 'ptcruiser' 'clk' 'primera' 'x_reihe'\n",
      " 'exeo' '159' 'transit' 'juke' 'qashqai' 'carisma' 'accord' 'corolla'\n",
      " 'lanos' 'phaeton' 'verso' 'swift' 'rav' 'picanto' 'boxster' 'kalos'\n",
      " 'superb' 'stilo' 'alhambra' 'mx_reihe' 'roadster' 'ypsilon' 'cayenne'\n",
      " 'galant' 'justy' '90' 'sirion' 'crossfire' 'agila' 'duster' 'cr_reihe'\n",
      " 'v50' 'c_reihe' 'v_klasse' 'm_klasse' 'yaris' 'c5' 'aygo' 'cc' 'carnival'\n",
      " 'fusion' '911' 'bora' 'forfour' 'm_reihe' 'cl' 'tigra' '300c' 'spark'\n",
      " 'v70' 'kuga' 'x_type' 'ducato' 's_type' 'x_trail' 'toledo' 'altea'\n",
      " 'voyager' 'calibra' 'bravo' 'antara' 'tucson' 'citigo' 'jimny' 'wrangler'\n",
      " 'lybra' 'q7' 'lancer' 'captiva' 'c2' 'discovery' 'freelander' 'sandero'\n",
      " 'note' '900' 'cherokee' 'clubman' 'samara' 'defender' '601' 'cx_reihe'\n",
      " 'legacy' 'pajero' 'auris' 'niva' 's60' 'nubira' 'vivaro' 'g_klasse'\n",
      " 'lodgy' '850' 'range_rover' 'q3' 'serie_2' 'glk' 'charade' 'croma'\n",
      " 'outlander' 'doblo' 'musa' 'move' '9000' 'v60' '145' 'aveo' '200' 'b_max'\n",
      " 'range_rover_sport' 'terios' 'rangerover' 'q5' 'range_rover_evoque'\n",
      " 'materia' 'delta' 'gl' 'kalina' 'amarok' 'elefantino' 'i3' 'kappa'\n",
      " 'serie_3' 'serie_1']\n",
      "FuelType\n",
      "['petrol' 'gasoline' nan 'lpg' 'other' 'hybrid' 'cng' 'electric']\n",
      "Brand\n",
      "['volkswagen' 'audi' 'jeep' 'skoda' 'bmw' 'peugeot' 'ford' 'mazda'\n",
      " 'nissan' 'renault' 'mercedes_benz' 'opel' 'seat' 'citroen' 'honda' 'fiat'\n",
      " 'mini' 'smart' 'hyundai' 'sonstige_autos' 'alfa_romeo' 'subaru' 'volvo'\n",
      " 'mitsubishi' 'kia' 'suzuki' 'lancia' 'toyota' 'chevrolet' 'dacia'\n",
      " 'daihatsu' 'trabant' 'saab' 'chrysler' 'jaguar' 'daewoo' 'porsche'\n",
      " 'rover' 'land_rover' 'lada']\n",
      "NotRepaired\n",
      "[nan 'yes' 'no']\n"
     ]
    }
   ],
   "source": [
    "cat_cols = [col for col in df.columns if df[col].dtype == 'object']\n",
    "\n",
    "for col in cat_cols:\n",
    "    print(col)\n",
    "    print(df[col].unique())"
   ],
   "metadata": {
    "collapsed": false,
    "pycharm": {
     "name": "#%%\n"
    }
   }
  },
  {
   "cell_type": "markdown",
   "source": [
    "Опечатки не обнаружены."
   ],
   "metadata": {
    "collapsed": false,
    "pycharm": {
     "name": "#%% md\n"
    }
   }
  },
  {
   "cell_type": "markdown",
   "source": [
    "Заменим пропущенные значения на unknown."
   ],
   "metadata": {
    "collapsed": false,
    "pycharm": {
     "name": "#%% md\n"
    }
   }
  },
  {
   "cell_type": "code",
   "execution_count": 8,
   "outputs": [
    {
     "name": "stdout",
     "output_type": "stream",
     "text": [
      "Количество пропущенных значений:\n"
     ]
    },
    {
     "data": {
      "text/plain": "Price               0\nVehicleType         0\nRegistrationYear    0\nGearbox             0\nPower               0\nModel               0\nKilometer           0\nFuelType            0\nBrand               0\nNotRepaired         0\ndtype: int64"
     },
     "execution_count": 8,
     "metadata": {},
     "output_type": "execute_result"
    }
   ],
   "source": [
    "df = df.fillna('unknown')\n",
    "print('Количество пропущенных значений:')\n",
    "df.isna().sum()"
   ],
   "metadata": {
    "collapsed": false,
    "pycharm": {
     "name": "#%%\n"
    }
   }
  },
  {
   "cell_type": "markdown",
   "source": [
    "Проверим числовые данные."
   ],
   "metadata": {
    "collapsed": false,
    "pycharm": {
     "name": "#%% md\n"
    }
   }
  },
  {
   "cell_type": "code",
   "execution_count": 9,
   "outputs": [
    {
     "data": {
      "text/plain": "               Price  RegistrationYear          Power      Kilometer\ncount  354369.000000     354369.000000  354369.000000  354369.000000\nmean     4416.656776       2004.234448     110.094337  128211.172535\nstd      4514.158514         90.227958     189.850405   37905.341530\nmin         0.000000       1000.000000       0.000000    5000.000000\n25%      1050.000000       1999.000000      69.000000  125000.000000\n50%      2700.000000       2003.000000     105.000000  150000.000000\n75%      6400.000000       2008.000000     143.000000  150000.000000\nmax     20000.000000       9999.000000   20000.000000  150000.000000",
      "text/html": "<div>\n<style scoped>\n    .dataframe tbody tr th:only-of-type {\n        vertical-align: middle;\n    }\n\n    .dataframe tbody tr th {\n        vertical-align: top;\n    }\n\n    .dataframe thead th {\n        text-align: right;\n    }\n</style>\n<table border=\"1\" class=\"dataframe\">\n  <thead>\n    <tr style=\"text-align: right;\">\n      <th></th>\n      <th>Price</th>\n      <th>RegistrationYear</th>\n      <th>Power</th>\n      <th>Kilometer</th>\n    </tr>\n  </thead>\n  <tbody>\n    <tr>\n      <th>count</th>\n      <td>354369.000000</td>\n      <td>354369.000000</td>\n      <td>354369.000000</td>\n      <td>354369.000000</td>\n    </tr>\n    <tr>\n      <th>mean</th>\n      <td>4416.656776</td>\n      <td>2004.234448</td>\n      <td>110.094337</td>\n      <td>128211.172535</td>\n    </tr>\n    <tr>\n      <th>std</th>\n      <td>4514.158514</td>\n      <td>90.227958</td>\n      <td>189.850405</td>\n      <td>37905.341530</td>\n    </tr>\n    <tr>\n      <th>min</th>\n      <td>0.000000</td>\n      <td>1000.000000</td>\n      <td>0.000000</td>\n      <td>5000.000000</td>\n    </tr>\n    <tr>\n      <th>25%</th>\n      <td>1050.000000</td>\n      <td>1999.000000</td>\n      <td>69.000000</td>\n      <td>125000.000000</td>\n    </tr>\n    <tr>\n      <th>50%</th>\n      <td>2700.000000</td>\n      <td>2003.000000</td>\n      <td>105.000000</td>\n      <td>150000.000000</td>\n    </tr>\n    <tr>\n      <th>75%</th>\n      <td>6400.000000</td>\n      <td>2008.000000</td>\n      <td>143.000000</td>\n      <td>150000.000000</td>\n    </tr>\n    <tr>\n      <th>max</th>\n      <td>20000.000000</td>\n      <td>9999.000000</td>\n      <td>20000.000000</td>\n      <td>150000.000000</td>\n    </tr>\n  </tbody>\n</table>\n</div>"
     },
     "execution_count": 9,
     "metadata": {},
     "output_type": "execute_result"
    }
   ],
   "source": [
    "df.describe()"
   ],
   "metadata": {
    "collapsed": false,
    "pycharm": {
     "name": "#%%\n"
    }
   }
  },
  {
   "cell_type": "markdown",
   "source": [
    "Можно видеть некорректные данные в колонках с годом регистрации и мощностью автомобиля. В колонке с годом регистрации присутствуют недостоверно малые значения 1000 и недостоверно большие значения 9999. В колонке с мощностью также обнаруживаются крайне малые значения (0) и крайне большие значения (20000) лошадиных сил.\n",
    "- Возможно, что некорректные данные в столбце с годом регистрации появились из-за того, что информации была записана в разных форматах: в годах и в днях начиная с начала 1970 года. Поэтому заменим значения меньше 1970 и больше 2022 на число, равное сумме 1970 и результата целочисленного деления некорректного значения на 365.\n",
    "- Высокие значения в столбце с мощностью автомобиля могут быть связаны также с неправильным форматом данных (указаны Ватты вместо лошадиных сил), поэтому значения выше 500 (примерная мощность тяжелого грузовика) заменим на частное некорректного значения и 736, т.к. 1 л.с. = 736 Вт. Нулевые значения в рассматриваемом столбце могли появиться из-за того, что владелец не знает мощности своего автомобиля и поэтому не указал его, заменим его на медианное."
   ],
   "metadata": {
    "collapsed": false,
    "pycharm": {
     "name": "#%% md\n"
    }
   }
  },
  {
   "cell_type": "code",
   "execution_count": 10,
   "outputs": [],
   "source": [
    "df['RegistrationYear'] = df['RegistrationYear'].apply(lambda x: x // 365 + 1970 if (x > 2022 or x < 1970) else x)\n",
    "\n",
    "df['Power'] = df['Power'].apply(lambda x: x // 736 if x > 500 else x)\n",
    "power_median = df['Power'].median().astype('int64')\n",
    "df['Power'] = df['Power'].apply(lambda x: power_median if x == 0 else x)"
   ],
   "metadata": {
    "collapsed": false,
    "pycharm": {
     "name": "#%%\n"
    }
   }
  },
  {
   "cell_type": "markdown",
   "source": [
    "Проведем исследовательский анализ данных с помощью пакета sweetviz."
   ],
   "metadata": {
    "collapsed": false,
    "pycharm": {
     "name": "#%% md\n"
    }
   }
  },
  {
   "cell_type": "code",
   "execution_count": 11,
   "outputs": [],
   "source": [
    "# report_autos = sv.analyze((df, 'autos_df'), target_feat='Price')\n",
    "# report_autos.show_notebook()"
   ],
   "metadata": {
    "collapsed": false,
    "pycharm": {
     "name": "#%%\n"
    }
   }
  },
  {
   "cell_type": "markdown",
   "source": [
    "Исследовательский анализ данных показывает, что заметное влияние на увеличение цены оказывает: наличие автоматической коробки передач, увеличение мощности двигателя, отсутствие ремонта. Также можно отметить, что некоторые бренды автомобилей, например, BMW и Mercedes-Benz намного отличаются по цене от других."
   ],
   "metadata": {
    "collapsed": false,
    "pycharm": {
     "name": "#%% md\n"
    }
   }
  },
  {
   "cell_type": "markdown",
   "metadata": {
    "pycharm": {
     "name": "#%% md\n"
    }
   },
   "source": [
    "## Анализ моделей"
   ]
  },
  {
   "cell_type": "markdown",
   "source": [
    "### Линейная регрессия"
   ],
   "metadata": {
    "collapsed": false,
    "pycharm": {
     "name": "#%% md\n"
    }
   }
  },
  {
   "cell_type": "markdown",
   "source": [
    "Закодируем категориальные данные методом OHE."
   ],
   "metadata": {
    "collapsed": false,
    "pycharm": {
     "name": "#%% md\n"
    }
   }
  },
  {
   "cell_type": "code",
   "execution_count": 12,
   "outputs": [
    {
     "name": "stdout",
     "output_type": "stream",
     "text": [
      "Размер набора данных до OHE: (354369, 10)\n",
      "Размер набора данных после OHE: (354369, 312)\n"
     ]
    }
   ],
   "source": [
    "df_ohe = df.copy()\n",
    "df_ohe = pd.get_dummies(df_ohe, drop_first=True)\n",
    "\n",
    "print('Размер набора данных до OHE:', df.shape)\n",
    "print('Размер набора данных после OHE:', df_ohe.shape)"
   ],
   "metadata": {
    "collapsed": false,
    "pycharm": {
     "name": "#%%\n"
    }
   }
  },
  {
   "cell_type": "markdown",
   "source": [
    "Разделим данные на тренировочную и тестовую выборки"
   ],
   "metadata": {
    "collapsed": false,
    "pycharm": {
     "name": "#%% md\n"
    }
   }
  },
  {
   "cell_type": "code",
   "execution_count": 13,
   "metadata": {
    "pycharm": {
     "name": "#%%\n"
    }
   },
   "outputs": [],
   "source": [
    "X_ohe = df_ohe.drop('Price', axis=1)\n",
    "y_ohe = df_ohe['Price']\n",
    "\n",
    "X_ohe_train, X_ohe_test, y_ohe_train, y_ohe_test = train_test_split(X_ohe, y_ohe, test_size=0.2, random_state=SEED)"
   ]
  },
  {
   "cell_type": "markdown",
   "source": [
    "Создадим конвейер для определения лучших гиперпараметров модели."
   ],
   "metadata": {
    "collapsed": false,
    "pycharm": {
     "name": "#%% md\n"
    }
   }
  },
  {
   "cell_type": "code",
   "execution_count": 14,
   "outputs": [],
   "source": [
    "# pipe_lr = Pipeline([('scaler', StandardScaler()),\n",
    "#                     ('lr', ElasticNet())])\n",
    "#\n",
    "# params_lr = {'lr__l1_ratio': [0, 1],\n",
    "#              'lr__alpha': [0.0001, 0.001, 0.01, 0.1, 1, 10, 100, 1000, 10000],\n",
    "#              'lr__fit_intercept': [True, False]}\n",
    "#\n",
    "# grid_search_lr = GridSearchCV(estimator=pipe_lr,\n",
    "#                               param_grid=params_lr,\n",
    "#                               cv=5,\n",
    "#                               n_jobs=-1,\n",
    "#                               verbose=1)\n",
    "#\n",
    "# grid_search_lr.fit(X_ohe_train, y_ohe_train)\n",
    "# grid_search_lr.best_params_"
   ],
   "metadata": {
    "collapsed": false,
    "pycharm": {
     "name": "#%%\n"
    }
   }
  },
  {
   "cell_type": "markdown",
   "source": [
    "Создадим модель с лучшими параметрами и оценим ее время работы и качество."
   ],
   "metadata": {
    "collapsed": false,
    "pycharm": {
     "name": "#%% md\n"
    }
   }
  },
  {
   "cell_type": "code",
   "execution_count": 15,
   "outputs": [],
   "source": [
    "best_pipe_lr = Pipeline([('scaler', StandardScaler()),\n",
    "                         ('lr', ElasticNet(alpha=1, fit_intercept=True, l1_ratio=1))])"
   ],
   "metadata": {
    "collapsed": false,
    "pycharm": {
     "name": "#%%\n"
    }
   }
  },
  {
   "cell_type": "code",
   "execution_count": 16,
   "outputs": [
    {
     "name": "stdout",
     "output_type": "stream",
     "text": [
      "Время обучения ElasticNet на тренировочной выборке:\n",
      "Wall time: 4min 32s\n"
     ]
    },
    {
     "data": {
      "text/plain": "Pipeline(steps=[('scaler', StandardScaler()),\n                ('lr', ElasticNet(alpha=1, l1_ratio=1))])",
      "text/html": "<style>#sk-container-id-1 {color: black;background-color: white;}#sk-container-id-1 pre{padding: 0;}#sk-container-id-1 div.sk-toggleable {background-color: white;}#sk-container-id-1 label.sk-toggleable__label {cursor: pointer;display: block;width: 100%;margin-bottom: 0;padding: 0.3em;box-sizing: border-box;text-align: center;}#sk-container-id-1 label.sk-toggleable__label-arrow:before {content: \"▸\";float: left;margin-right: 0.25em;color: #696969;}#sk-container-id-1 label.sk-toggleable__label-arrow:hover:before {color: black;}#sk-container-id-1 div.sk-estimator:hover label.sk-toggleable__label-arrow:before {color: black;}#sk-container-id-1 div.sk-toggleable__content {max-height: 0;max-width: 0;overflow: hidden;text-align: left;background-color: #f0f8ff;}#sk-container-id-1 div.sk-toggleable__content pre {margin: 0.2em;color: black;border-radius: 0.25em;background-color: #f0f8ff;}#sk-container-id-1 input.sk-toggleable__control:checked~div.sk-toggleable__content {max-height: 200px;max-width: 100%;overflow: auto;}#sk-container-id-1 input.sk-toggleable__control:checked~label.sk-toggleable__label-arrow:before {content: \"▾\";}#sk-container-id-1 div.sk-estimator input.sk-toggleable__control:checked~label.sk-toggleable__label {background-color: #d4ebff;}#sk-container-id-1 div.sk-label input.sk-toggleable__control:checked~label.sk-toggleable__label {background-color: #d4ebff;}#sk-container-id-1 input.sk-hidden--visually {border: 0;clip: rect(1px 1px 1px 1px);clip: rect(1px, 1px, 1px, 1px);height: 1px;margin: -1px;overflow: hidden;padding: 0;position: absolute;width: 1px;}#sk-container-id-1 div.sk-estimator {font-family: monospace;background-color: #f0f8ff;border: 1px dotted black;border-radius: 0.25em;box-sizing: border-box;margin-bottom: 0.5em;}#sk-container-id-1 div.sk-estimator:hover {background-color: #d4ebff;}#sk-container-id-1 div.sk-parallel-item::after {content: \"\";width: 100%;border-bottom: 1px solid gray;flex-grow: 1;}#sk-container-id-1 div.sk-label:hover label.sk-toggleable__label {background-color: #d4ebff;}#sk-container-id-1 div.sk-serial::before {content: \"\";position: absolute;border-left: 1px solid gray;box-sizing: border-box;top: 0;bottom: 0;left: 50%;z-index: 0;}#sk-container-id-1 div.sk-serial {display: flex;flex-direction: column;align-items: center;background-color: white;padding-right: 0.2em;padding-left: 0.2em;position: relative;}#sk-container-id-1 div.sk-item {position: relative;z-index: 1;}#sk-container-id-1 div.sk-parallel {display: flex;align-items: stretch;justify-content: center;background-color: white;position: relative;}#sk-container-id-1 div.sk-item::before, #sk-container-id-1 div.sk-parallel-item::before {content: \"\";position: absolute;border-left: 1px solid gray;box-sizing: border-box;top: 0;bottom: 0;left: 50%;z-index: -1;}#sk-container-id-1 div.sk-parallel-item {display: flex;flex-direction: column;z-index: 1;position: relative;background-color: white;}#sk-container-id-1 div.sk-parallel-item:first-child::after {align-self: flex-end;width: 50%;}#sk-container-id-1 div.sk-parallel-item:last-child::after {align-self: flex-start;width: 50%;}#sk-container-id-1 div.sk-parallel-item:only-child::after {width: 0;}#sk-container-id-1 div.sk-dashed-wrapped {border: 1px dashed gray;margin: 0 0.4em 0.5em 0.4em;box-sizing: border-box;padding-bottom: 0.4em;background-color: white;}#sk-container-id-1 div.sk-label label {font-family: monospace;font-weight: bold;display: inline-block;line-height: 1.2em;}#sk-container-id-1 div.sk-label-container {text-align: center;}#sk-container-id-1 div.sk-container {/* jupyter's `normalize.less` sets `[hidden] { display: none; }` but bootstrap.min.css set `[hidden] { display: none !important; }` so we also need the `!important` here to be able to override the default hidden behavior on the sphinx rendered scikit-learn.org. See: https://github.com/scikit-learn/scikit-learn/issues/21755 */display: inline-block !important;position: relative;}#sk-container-id-1 div.sk-text-repr-fallback {display: none;}</style><div id=\"sk-container-id-1\" class=\"sk-top-container\"><div class=\"sk-text-repr-fallback\"><pre>Pipeline(steps=[(&#x27;scaler&#x27;, StandardScaler()),\n                (&#x27;lr&#x27;, ElasticNet(alpha=1, l1_ratio=1))])</pre><b>In a Jupyter environment, please rerun this cell to show the HTML representation or trust the notebook. <br />On GitHub, the HTML representation is unable to render, please try loading this page with nbviewer.org.</b></div><div class=\"sk-container\" hidden><div class=\"sk-item sk-dashed-wrapped\"><div class=\"sk-label-container\"><div class=\"sk-label sk-toggleable\"><input class=\"sk-toggleable__control sk-hidden--visually\" id=\"sk-estimator-id-1\" type=\"checkbox\" ><label for=\"sk-estimator-id-1\" class=\"sk-toggleable__label sk-toggleable__label-arrow\">Pipeline</label><div class=\"sk-toggleable__content\"><pre>Pipeline(steps=[(&#x27;scaler&#x27;, StandardScaler()),\n                (&#x27;lr&#x27;, ElasticNet(alpha=1, l1_ratio=1))])</pre></div></div></div><div class=\"sk-serial\"><div class=\"sk-item\"><div class=\"sk-estimator sk-toggleable\"><input class=\"sk-toggleable__control sk-hidden--visually\" id=\"sk-estimator-id-2\" type=\"checkbox\" ><label for=\"sk-estimator-id-2\" class=\"sk-toggleable__label sk-toggleable__label-arrow\">StandardScaler</label><div class=\"sk-toggleable__content\"><pre>StandardScaler()</pre></div></div></div><div class=\"sk-item\"><div class=\"sk-estimator sk-toggleable\"><input class=\"sk-toggleable__control sk-hidden--visually\" id=\"sk-estimator-id-3\" type=\"checkbox\" ><label for=\"sk-estimator-id-3\" class=\"sk-toggleable__label sk-toggleable__label-arrow\">ElasticNet</label><div class=\"sk-toggleable__content\"><pre>ElasticNet(alpha=1, l1_ratio=1)</pre></div></div></div></div></div></div></div>"
     },
     "execution_count": 16,
     "metadata": {},
     "output_type": "execute_result"
    }
   ],
   "source": [
    "%%time\n",
    "print('Время обучения ElasticNet на тренировочной выборке:')\n",
    "best_pipe_lr.fit(X_ohe_train, y_ohe_train)"
   ],
   "metadata": {
    "collapsed": false,
    "pycharm": {
     "name": "#%%\n"
    }
   }
  },
  {
   "cell_type": "code",
   "execution_count": 17,
   "outputs": [
    {
     "name": "stdout",
     "output_type": "stream",
     "text": [
      "Время предсказания ElasticNet на тестовой выборке:\n",
      "Wall time: 675 ms\n"
     ]
    }
   ],
   "source": [
    "%%time\n",
    "print('Время предсказания ElasticNet на тестовой выборке:')\n",
    "y_lr_pred = best_pipe_lr.predict(X_ohe_test)"
   ],
   "metadata": {
    "collapsed": false,
    "pycharm": {
     "name": "#%%\n"
    }
   }
  },
  {
   "cell_type": "code",
   "execution_count": 18,
   "outputs": [
    {
     "name": "stdout",
     "output_type": "stream",
     "text": [
      "RMSE модели ElasticNet на тестовой выборке: 2703\n"
     ]
    }
   ],
   "source": [
    "rmse_lr = mean_squared_error(y_ohe_test, y_lr_pred, squared=False)\n",
    "print('RMSE модели ElasticNet на тестовой выборке:', int(rmse_lr))"
   ],
   "metadata": {
    "collapsed": false,
    "pycharm": {
     "name": "#%%\n"
    }
   }
  },
  {
   "cell_type": "markdown",
   "source": [
    "### Случайный лес"
   ],
   "metadata": {
    "collapsed": false,
    "pycharm": {
     "name": "#%% md\n"
    }
   }
  },
  {
   "cell_type": "markdown",
   "source": [
    "Присвоим строковым значениям индивидуальные метки."
   ],
   "metadata": {
    "collapsed": false,
    "pycharm": {
     "name": "#%% md\n"
    }
   }
  },
  {
   "cell_type": "code",
   "execution_count": 19,
   "outputs": [
    {
     "data": {
      "text/plain": "   Price  RegistrationYear  Power  Kilometer  VehicleType_LE  Gearbox_LE  \\\n0    480              1993    105     150000               7           1   \n1  18300              2011    190     125000               2           1   \n2   9800              2004    163     125000               6           0   \n3   1500              2001     75     150000               5           1   \n4   3600              2008     69      90000               5           1   \n\n   Model_LE  FuelType_LE  Brand_LE  NotRepaired_LE  \n0       116            6        38               1  \n1       228            2         1               2  \n2       117            2        14               1  \n3       116            6        38               0  \n4       101            2        31               0  ",
      "text/html": "<div>\n<style scoped>\n    .dataframe tbody tr th:only-of-type {\n        vertical-align: middle;\n    }\n\n    .dataframe tbody tr th {\n        vertical-align: top;\n    }\n\n    .dataframe thead th {\n        text-align: right;\n    }\n</style>\n<table border=\"1\" class=\"dataframe\">\n  <thead>\n    <tr style=\"text-align: right;\">\n      <th></th>\n      <th>Price</th>\n      <th>RegistrationYear</th>\n      <th>Power</th>\n      <th>Kilometer</th>\n      <th>VehicleType_LE</th>\n      <th>Gearbox_LE</th>\n      <th>Model_LE</th>\n      <th>FuelType_LE</th>\n      <th>Brand_LE</th>\n      <th>NotRepaired_LE</th>\n    </tr>\n  </thead>\n  <tbody>\n    <tr>\n      <th>0</th>\n      <td>480</td>\n      <td>1993</td>\n      <td>105</td>\n      <td>150000</td>\n      <td>7</td>\n      <td>1</td>\n      <td>116</td>\n      <td>6</td>\n      <td>38</td>\n      <td>1</td>\n    </tr>\n    <tr>\n      <th>1</th>\n      <td>18300</td>\n      <td>2011</td>\n      <td>190</td>\n      <td>125000</td>\n      <td>2</td>\n      <td>1</td>\n      <td>228</td>\n      <td>2</td>\n      <td>1</td>\n      <td>2</td>\n    </tr>\n    <tr>\n      <th>2</th>\n      <td>9800</td>\n      <td>2004</td>\n      <td>163</td>\n      <td>125000</td>\n      <td>6</td>\n      <td>0</td>\n      <td>117</td>\n      <td>2</td>\n      <td>14</td>\n      <td>1</td>\n    </tr>\n    <tr>\n      <th>3</th>\n      <td>1500</td>\n      <td>2001</td>\n      <td>75</td>\n      <td>150000</td>\n      <td>5</td>\n      <td>1</td>\n      <td>116</td>\n      <td>6</td>\n      <td>38</td>\n      <td>0</td>\n    </tr>\n    <tr>\n      <th>4</th>\n      <td>3600</td>\n      <td>2008</td>\n      <td>69</td>\n      <td>90000</td>\n      <td>5</td>\n      <td>1</td>\n      <td>101</td>\n      <td>2</td>\n      <td>31</td>\n      <td>0</td>\n    </tr>\n  </tbody>\n</table>\n</div>"
     },
     "execution_count": 19,
     "metadata": {},
     "output_type": "execute_result"
    }
   ],
   "source": [
    "df_cat = df.copy()\n",
    "\n",
    "for col in cat_cols:\n",
    "    df_cat[col + '_LE'] = LabelEncoder().fit_transform(df[col])\n",
    "\n",
    "df_le = df_cat[[col for col in df_cat if col not in cat_cols]]\n",
    "df_le.head()"
   ],
   "metadata": {
    "collapsed": false,
    "pycharm": {
     "name": "#%%\n"
    }
   }
  },
  {
   "cell_type": "markdown",
   "source": [
    "Разделим данные на тренировочную и тестовую выборки"
   ],
   "metadata": {
    "collapsed": false,
    "pycharm": {
     "name": "#%% md\n"
    }
   }
  },
  {
   "cell_type": "code",
   "execution_count": 20,
   "outputs": [],
   "source": [
    "X_le = df_le.drop('Price', axis=1)\n",
    "y_le = df_le['Price']\n",
    "\n",
    "X_le_train, X_le_test, y_le_train, y_le_test = train_test_split(X_le, y_le, test_size=0.2, random_state=SEED)"
   ],
   "metadata": {
    "collapsed": false,
    "pycharm": {
     "name": "#%%\n"
    }
   }
  },
  {
   "cell_type": "markdown",
   "source": [
    "Создадим конвейер для определения лучших гиперпараметров модели."
   ],
   "metadata": {
    "collapsed": false,
    "pycharm": {
     "name": "#%% md\n"
    }
   }
  },
  {
   "cell_type": "code",
   "execution_count": 21,
   "outputs": [],
   "source": [
    "# params_rf = {'n_estimators': [50, 100, 200, 300],\n",
    "#              'max_depth': [1, 2, 4, 6, 8, 10, 12]}\n",
    "#\n",
    "# grid_search_rf = GridSearchCV(estimator=RandomForestRegressor(random_state=SEED),\n",
    "#                               param_grid=params_rf,\n",
    "#                               cv=5,\n",
    "#                               n_jobs=-1,\n",
    "#                               verbose=1)\n",
    "#\n",
    "# grid_search_rf.fit(X_le_train, y_le_train)\n",
    "# grid_search_rf.best_params_"
   ],
   "metadata": {
    "collapsed": false,
    "pycharm": {
     "name": "#%%\n"
    }
   }
  },
  {
   "cell_type": "markdown",
   "source": [
    "Создадим модель с лучшими параметрами и оценим ее время работы и качество."
   ],
   "metadata": {
    "collapsed": false,
    "pycharm": {
     "name": "#%% md\n"
    }
   }
  },
  {
   "cell_type": "code",
   "execution_count": 22,
   "outputs": [],
   "source": [
    "best_rf = RandomForestRegressor(max_depth=1, n_estimators=100, random_state=SEED)"
   ],
   "metadata": {
    "collapsed": false,
    "pycharm": {
     "name": "#%%\n"
    }
   }
  },
  {
   "cell_type": "code",
   "execution_count": 23,
   "outputs": [
    {
     "name": "stdout",
     "output_type": "stream",
     "text": [
      "Время обучения RandomForestRegressor на тренировочной выборке:\n",
      "Wall time: 16.3 s\n"
     ]
    },
    {
     "data": {
      "text/plain": "RandomForestRegressor(max_depth=1, random_state=515)",
      "text/html": "<style>#sk-container-id-2 {color: black;background-color: white;}#sk-container-id-2 pre{padding: 0;}#sk-container-id-2 div.sk-toggleable {background-color: white;}#sk-container-id-2 label.sk-toggleable__label {cursor: pointer;display: block;width: 100%;margin-bottom: 0;padding: 0.3em;box-sizing: border-box;text-align: center;}#sk-container-id-2 label.sk-toggleable__label-arrow:before {content: \"▸\";float: left;margin-right: 0.25em;color: #696969;}#sk-container-id-2 label.sk-toggleable__label-arrow:hover:before {color: black;}#sk-container-id-2 div.sk-estimator:hover label.sk-toggleable__label-arrow:before {color: black;}#sk-container-id-2 div.sk-toggleable__content {max-height: 0;max-width: 0;overflow: hidden;text-align: left;background-color: #f0f8ff;}#sk-container-id-2 div.sk-toggleable__content pre {margin: 0.2em;color: black;border-radius: 0.25em;background-color: #f0f8ff;}#sk-container-id-2 input.sk-toggleable__control:checked~div.sk-toggleable__content {max-height: 200px;max-width: 100%;overflow: auto;}#sk-container-id-2 input.sk-toggleable__control:checked~label.sk-toggleable__label-arrow:before {content: \"▾\";}#sk-container-id-2 div.sk-estimator input.sk-toggleable__control:checked~label.sk-toggleable__label {background-color: #d4ebff;}#sk-container-id-2 div.sk-label input.sk-toggleable__control:checked~label.sk-toggleable__label {background-color: #d4ebff;}#sk-container-id-2 input.sk-hidden--visually {border: 0;clip: rect(1px 1px 1px 1px);clip: rect(1px, 1px, 1px, 1px);height: 1px;margin: -1px;overflow: hidden;padding: 0;position: absolute;width: 1px;}#sk-container-id-2 div.sk-estimator {font-family: monospace;background-color: #f0f8ff;border: 1px dotted black;border-radius: 0.25em;box-sizing: border-box;margin-bottom: 0.5em;}#sk-container-id-2 div.sk-estimator:hover {background-color: #d4ebff;}#sk-container-id-2 div.sk-parallel-item::after {content: \"\";width: 100%;border-bottom: 1px solid gray;flex-grow: 1;}#sk-container-id-2 div.sk-label:hover label.sk-toggleable__label {background-color: #d4ebff;}#sk-container-id-2 div.sk-serial::before {content: \"\";position: absolute;border-left: 1px solid gray;box-sizing: border-box;top: 0;bottom: 0;left: 50%;z-index: 0;}#sk-container-id-2 div.sk-serial {display: flex;flex-direction: column;align-items: center;background-color: white;padding-right: 0.2em;padding-left: 0.2em;position: relative;}#sk-container-id-2 div.sk-item {position: relative;z-index: 1;}#sk-container-id-2 div.sk-parallel {display: flex;align-items: stretch;justify-content: center;background-color: white;position: relative;}#sk-container-id-2 div.sk-item::before, #sk-container-id-2 div.sk-parallel-item::before {content: \"\";position: absolute;border-left: 1px solid gray;box-sizing: border-box;top: 0;bottom: 0;left: 50%;z-index: -1;}#sk-container-id-2 div.sk-parallel-item {display: flex;flex-direction: column;z-index: 1;position: relative;background-color: white;}#sk-container-id-2 div.sk-parallel-item:first-child::after {align-self: flex-end;width: 50%;}#sk-container-id-2 div.sk-parallel-item:last-child::after {align-self: flex-start;width: 50%;}#sk-container-id-2 div.sk-parallel-item:only-child::after {width: 0;}#sk-container-id-2 div.sk-dashed-wrapped {border: 1px dashed gray;margin: 0 0.4em 0.5em 0.4em;box-sizing: border-box;padding-bottom: 0.4em;background-color: white;}#sk-container-id-2 div.sk-label label {font-family: monospace;font-weight: bold;display: inline-block;line-height: 1.2em;}#sk-container-id-2 div.sk-label-container {text-align: center;}#sk-container-id-2 div.sk-container {/* jupyter's `normalize.less` sets `[hidden] { display: none; }` but bootstrap.min.css set `[hidden] { display: none !important; }` so we also need the `!important` here to be able to override the default hidden behavior on the sphinx rendered scikit-learn.org. See: https://github.com/scikit-learn/scikit-learn/issues/21755 */display: inline-block !important;position: relative;}#sk-container-id-2 div.sk-text-repr-fallback {display: none;}</style><div id=\"sk-container-id-2\" class=\"sk-top-container\"><div class=\"sk-text-repr-fallback\"><pre>RandomForestRegressor(max_depth=1, random_state=515)</pre><b>In a Jupyter environment, please rerun this cell to show the HTML representation or trust the notebook. <br />On GitHub, the HTML representation is unable to render, please try loading this page with nbviewer.org.</b></div><div class=\"sk-container\" hidden><div class=\"sk-item\"><div class=\"sk-estimator sk-toggleable\"><input class=\"sk-toggleable__control sk-hidden--visually\" id=\"sk-estimator-id-4\" type=\"checkbox\" checked><label for=\"sk-estimator-id-4\" class=\"sk-toggleable__label sk-toggleable__label-arrow\">RandomForestRegressor</label><div class=\"sk-toggleable__content\"><pre>RandomForestRegressor(max_depth=1, random_state=515)</pre></div></div></div></div></div>"
     },
     "execution_count": 23,
     "metadata": {},
     "output_type": "execute_result"
    }
   ],
   "source": [
    "%%time\n",
    "print('Время обучения RandomForestRegressor на тренировочной выборке:')\n",
    "best_rf.fit(X_le_train, y_le_train)"
   ],
   "metadata": {
    "collapsed": false,
    "pycharm": {
     "name": "#%%\n"
    }
   }
  },
  {
   "cell_type": "code",
   "execution_count": 24,
   "outputs": [
    {
     "name": "stdout",
     "output_type": "stream",
     "text": [
      "Время предсказания RandomForestRegressor на тестовой выборке:\n",
      "Wall time: 601 ms\n"
     ]
    }
   ],
   "source": [
    "%%time\n",
    "print('Время предсказания RandomForestRegressor на тестовой выборке:')\n",
    "y_rf_pred = best_rf.predict(X_le_test)"
   ],
   "metadata": {
    "collapsed": false,
    "pycharm": {
     "name": "#%%\n"
    }
   }
  },
  {
   "cell_type": "code",
   "execution_count": 25,
   "outputs": [
    {
     "name": "stdout",
     "output_type": "stream",
     "text": [
      "RMSE модели RandomForestRegressor на тестовой выборке: 3794\n"
     ]
    }
   ],
   "source": [
    "rmse_rf = mean_squared_error(y_le_test, y_rf_pred, squared=False)\n",
    "print('RMSE модели RandomForestRegressor на тестовой выборке:', int(rmse_rf))"
   ],
   "metadata": {
    "collapsed": false,
    "pycharm": {
     "name": "#%%\n"
    }
   }
  },
  {
   "cell_type": "code",
   "execution_count": 25,
   "outputs": [],
   "source": [],
   "metadata": {
    "collapsed": false,
    "pycharm": {
     "name": "#%%\n"
    }
   }
  },
  {
   "cell_type": "markdown",
   "metadata": {
    "pycharm": {
     "name": "#%% md\n"
    }
   },
   "source": [
    "## Чек-лист проверки"
   ]
  },
  {
   "cell_type": "markdown",
   "metadata": {
    "pycharm": {
     "name": "#%% md\n"
    }
   },
   "source": [
    "Поставьте 'x' в выполненных пунктах. Далее нажмите Shift+Enter."
   ]
  },
  {
   "cell_type": "markdown",
   "metadata": {
    "pycharm": {
     "name": "#%% md\n"
    }
   },
   "source": [
    "- [x]  Jupyter Notebook открыт\n",
    "- [ ]  Весь код выполняется без ошибок\n",
    "- [ ]  Ячейки с кодом расположены в порядке исполнения\n",
    "- [ ]  Выполнена загрузка и подготовка данных\n",
    "- [ ]  Выполнено обучение моделей\n",
    "- [ ]  Есть анализ скорости работы и качества моделей"
   ]
  },
  {
   "cell_type": "code",
   "execution_count": 25,
   "metadata": {
    "pycharm": {
     "name": "#%%\n"
    }
   },
   "outputs": [],
   "source": []
  }
 ],
 "metadata": {
  "kernelspec": {
   "display_name": "Python 3 (ipykernel)",
   "language": "python",
   "name": "python3"
  },
  "language_info": {
   "codemirror_mode": {
    "name": "ipython",
    "version": 3
   },
   "file_extension": ".py",
   "mimetype": "text/x-python",
   "name": "python",
   "nbconvert_exporter": "python",
   "pygments_lexer": "ipython3",
   "version": "3.9.5"
  },
  "toc": {
   "base_numbering": 1,
   "nav_menu": {},
   "number_sections": true,
   "sideBar": true,
   "skip_h1_title": true,
   "title_cell": "Table of Contents",
   "title_sidebar": "Contents",
   "toc_cell": false,
   "toc_position": {},
   "toc_section_display": true,
   "toc_window_display": false
  }
 },
 "nbformat": 4,
 "nbformat_minor": 2
}